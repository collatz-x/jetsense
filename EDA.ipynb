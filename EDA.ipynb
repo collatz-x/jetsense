{
 "cells": [
  {
   "cell_type": "code",
   "execution_count": 41,
   "id": "71753f59-6d92-4937-8cda-543c83e0acb6",
   "metadata": {},
   "outputs": [],
   "source": [
    "import pandas as pd\n",
    "\n",
    "df = pd.read_csv(\"raw_data/bronze_train.csv\")"
   ]
  },
  {
   "cell_type": "code",
   "execution_count": 42,
   "id": "95204b24-b7cc-4fb6-b158-9a78bc9bde83",
   "metadata": {},
   "outputs": [
    {
     "data": {
      "text/plain": [
       "unit            0\n",
       "cycle           0\n",
       "op_setting_1    0\n",
       "op_setting_2    0\n",
       "op_setting_3    0\n",
       "T2              0\n",
       "T24             0\n",
       "T30             0\n",
       "T50             0\n",
       "P2              0\n",
       "P15             0\n",
       "P30             0\n",
       "Nf              0\n",
       "Nc              0\n",
       "epr             0\n",
       "Ps30            0\n",
       "phi             0\n",
       "NRf             0\n",
       "NRc             0\n",
       "BPR             0\n",
       "farB            0\n",
       "htBleed         0\n",
       "Nf_dmd          0\n",
       "PCNfR_dmd       0\n",
       "W31             0\n",
       "W32             0\n",
       "failure_type    0\n",
       "dtype: int64"
      ]
     },
     "execution_count": 42,
     "metadata": {},
     "output_type": "execute_result"
    }
   ],
   "source": [
    "df.isna().sum()"
   ]
  },
  {
   "cell_type": "code",
   "execution_count": 43,
   "id": "2279efbd-eb50-4369-ab42-536939fd5c20",
   "metadata": {},
   "outputs": [
    {
     "name": "stdout",
     "output_type": "stream",
     "text": [
      "<class 'pandas.core.frame.DataFrame'>\n",
      "RangeIndex: 160359 entries, 0 to 160358\n",
      "Data columns (total 27 columns):\n",
      " #   Column        Non-Null Count   Dtype  \n",
      "---  ------        --------------   -----  \n",
      " 0   unit          160359 non-null  int64  \n",
      " 1   cycle         160359 non-null  int64  \n",
      " 2   op_setting_1  160359 non-null  float64\n",
      " 3   op_setting_2  160359 non-null  float64\n",
      " 4   op_setting_3  160359 non-null  float64\n",
      " 5   T2            160359 non-null  float64\n",
      " 6   T24           160359 non-null  float64\n",
      " 7   T30           160359 non-null  float64\n",
      " 8   T50           160359 non-null  float64\n",
      " 9   P2            160359 non-null  float64\n",
      " 10  P15           160359 non-null  float64\n",
      " 11  P30           160359 non-null  float64\n",
      " 12  Nf            160359 non-null  float64\n",
      " 13  Nc            160359 non-null  float64\n",
      " 14  epr           160359 non-null  float64\n",
      " 15  Ps30          160359 non-null  float64\n",
      " 16  phi           160359 non-null  float64\n",
      " 17  NRf           160359 non-null  float64\n",
      " 18  NRc           160359 non-null  float64\n",
      " 19  BPR           160359 non-null  float64\n",
      " 20  farB          160359 non-null  float64\n",
      " 21  htBleed       160359 non-null  int64  \n",
      " 22  Nf_dmd        160359 non-null  int64  \n",
      " 23  PCNfR_dmd     160359 non-null  float64\n",
      " 24  W31           160359 non-null  float64\n",
      " 25  W32           160359 non-null  float64\n",
      " 26  failure_type  160359 non-null  int64  \n",
      "dtypes: float64(22), int64(5)\n",
      "memory usage: 33.0 MB\n"
     ]
    }
   ],
   "source": [
    "df.info()"
   ]
  },
  {
   "cell_type": "code",
   "execution_count": 44,
   "id": "f9c09b5f-bfad-4e21-8be1-51abfe64fcd2",
   "metadata": {},
   "outputs": [
    {
     "data": {
      "text/plain": [
       "np.int64(0)"
      ]
     },
     "execution_count": 44,
     "metadata": {},
     "output_type": "execute_result"
    }
   ],
   "source": [
    "df.duplicated().sum()"
   ]
  },
  {
   "cell_type": "code",
   "execution_count": 45,
   "id": "809073ba-da67-4ebd-8d1e-945a68810899",
   "metadata": {},
   "outputs": [
    {
     "data": {
      "text/plain": [
       "['unit',\n",
       " 'cycle',\n",
       " 'op_setting_1',\n",
       " 'op_setting_2',\n",
       " 'op_setting_3',\n",
       " 'T2',\n",
       " 'T24',\n",
       " 'T30',\n",
       " 'T50',\n",
       " 'P2',\n",
       " 'P15',\n",
       " 'P30',\n",
       " 'Nf',\n",
       " 'Nc',\n",
       " 'epr',\n",
       " 'Ps30',\n",
       " 'phi',\n",
       " 'NRf',\n",
       " 'NRc',\n",
       " 'BPR',\n",
       " 'farB',\n",
       " 'htBleed',\n",
       " 'Nf_dmd',\n",
       " 'PCNfR_dmd',\n",
       " 'W31',\n",
       " 'W32',\n",
       " 'failure_type']"
      ]
     },
     "execution_count": 45,
     "metadata": {},
     "output_type": "execute_result"
    }
   ],
   "source": [
    "list(df.columns)"
   ]
  },
  {
   "cell_type": "code",
   "execution_count": 46,
   "id": "9135c1c4-11d9-4dd3-aec3-978dc53c96c5",
   "metadata": {},
   "outputs": [],
   "source": [
    "df = pd.read_parquet(\"datamart/silver/silver_feature_rolling.parquet\")"
   ]
  },
  {
   "cell_type": "code",
   "execution_count": 50,
   "id": "ee23e0c2-c1da-4540-81c8-0128b4a45688",
   "metadata": {},
   "outputs": [
    {
     "name": "stdout",
     "output_type": "stream",
     "text": [
      "<class 'pandas.core.frame.DataFrame'>\n",
      "RangeIndex: 160359 entries, 0 to 160358\n",
      "Data columns (total 98 columns):\n",
      " #   Column                     Non-Null Count   Dtype  \n",
      "---  ------                     --------------   -----  \n",
      " 0   unit                       160359 non-null  int32  \n",
      " 1   cycle                      160359 non-null  int32  \n",
      " 2   op_setting_1               160359 non-null  float32\n",
      " 3   op_setting_2               160359 non-null  float32\n",
      " 4   op_setting_3               160359 non-null  float32\n",
      " 5   T2                         160359 non-null  float32\n",
      " 6   T24                        160359 non-null  float32\n",
      " 7   T30                        160359 non-null  float32\n",
      " 8   T50                        160359 non-null  float32\n",
      " 9   P2                         160359 non-null  float32\n",
      " 10  P15                        160359 non-null  float32\n",
      " 11  P30                        160359 non-null  float32\n",
      " 12  Nf                         160359 non-null  float32\n",
      " 13  Nc                         160359 non-null  float32\n",
      " 14  epr                        160359 non-null  float32\n",
      " 15  Ps30                       160359 non-null  float32\n",
      " 16  phi                        160359 non-null  float32\n",
      " 17  NRf                        160359 non-null  float32\n",
      " 18  NRc                        160359 non-null  float32\n",
      " 19  BPR                        160359 non-null  float32\n",
      " 20  farB                       160359 non-null  float32\n",
      " 21  htBleed                    160359 non-null  float32\n",
      " 22  Nf_dmd                     160359 non-null  float32\n",
      " 23  PCNfR_dmd                  160359 non-null  float32\n",
      " 24  W31                        160359 non-null  float32\n",
      " 25  W32                        160359 non-null  float32\n",
      " 26  op_setting_1_rolling_mean  160359 non-null  float64\n",
      " 27  op_setting_1_rolling_std   160359 non-null  float64\n",
      " 28  op_setting_1_delta         160359 non-null  float64\n",
      " 29  op_setting_2_rolling_mean  160359 non-null  float64\n",
      " 30  op_setting_2_rolling_std   160359 non-null  float64\n",
      " 31  op_setting_2_delta         160359 non-null  float64\n",
      " 32  op_setting_3_rolling_mean  160359 non-null  float64\n",
      " 33  op_setting_3_rolling_std   160359 non-null  float64\n",
      " 34  op_setting_3_delta         160359 non-null  float64\n",
      " 35  T2_rolling_mean            160359 non-null  float64\n",
      " 36  T2_rolling_std             160359 non-null  float64\n",
      " 37  T2_delta                   160359 non-null  float64\n",
      " 38  T24_rolling_mean           160359 non-null  float64\n",
      " 39  T24_rolling_std            160359 non-null  float64\n",
      " 40  T24_delta                  160359 non-null  float64\n",
      " 41  T30_rolling_mean           160359 non-null  float64\n",
      " 42  T30_rolling_std            160359 non-null  float64\n",
      " 43  T30_delta                  160359 non-null  float64\n",
      " 44  T50_rolling_mean           160359 non-null  float64\n",
      " 45  T50_rolling_std            160359 non-null  float64\n",
      " 46  T50_delta                  160359 non-null  float64\n",
      " 47  P2_rolling_mean            160359 non-null  float64\n",
      " 48  P2_rolling_std             160359 non-null  float64\n",
      " 49  P2_delta                   160359 non-null  float64\n",
      " 50  P15_rolling_mean           160359 non-null  float64\n",
      " 51  P15_rolling_std            160359 non-null  float64\n",
      " 52  P15_delta                  160359 non-null  float64\n",
      " 53  P30_rolling_mean           160359 non-null  float64\n",
      " 54  P30_rolling_std            160359 non-null  float64\n",
      " 55  P30_delta                  160359 non-null  float64\n",
      " 56  Nf_rolling_mean            160359 non-null  float64\n",
      " 57  Nf_rolling_std             160359 non-null  float64\n",
      " 58  Nf_delta                   160359 non-null  float64\n",
      " 59  Nc_rolling_mean            160359 non-null  float64\n",
      " 60  Nc_rolling_std             160359 non-null  float64\n",
      " 61  Nc_delta                   160359 non-null  float64\n",
      " 62  epr_rolling_mean           160359 non-null  float64\n",
      " 63  epr_rolling_std            160359 non-null  float64\n",
      " 64  epr_delta                  160359 non-null  float64\n",
      " 65  Ps30_rolling_mean          160359 non-null  float64\n",
      " 66  Ps30_rolling_std           160359 non-null  float64\n",
      " 67  Ps30_delta                 160359 non-null  float64\n",
      " 68  phi_rolling_mean           160359 non-null  float64\n",
      " 69  phi_rolling_std            160359 non-null  float64\n",
      " 70  phi_delta                  160359 non-null  float64\n",
      " 71  NRf_rolling_mean           160359 non-null  float64\n",
      " 72  NRf_rolling_std            160359 non-null  float64\n",
      " 73  NRf_delta                  160359 non-null  float64\n",
      " 74  NRc_rolling_mean           160359 non-null  float64\n",
      " 75  NRc_rolling_std            160359 non-null  float64\n",
      " 76  NRc_delta                  160359 non-null  float64\n",
      " 77  BPR_rolling_mean           160359 non-null  float64\n",
      " 78  BPR_rolling_std            160359 non-null  float64\n",
      " 79  BPR_delta                  160359 non-null  float64\n",
      " 80  farB_rolling_mean          160359 non-null  float64\n",
      " 81  farB_rolling_std           160359 non-null  float64\n",
      " 82  farB_delta                 160359 non-null  float64\n",
      " 83  htBleed_rolling_mean       160359 non-null  float64\n",
      " 84  htBleed_rolling_std        160359 non-null  float64\n",
      " 85  htBleed_delta              160359 non-null  float64\n",
      " 86  Nf_dmd_rolling_mean        160359 non-null  float64\n",
      " 87  Nf_dmd_rolling_std         160359 non-null  float64\n",
      " 88  Nf_dmd_delta               160359 non-null  float64\n",
      " 89  PCNfR_dmd_rolling_mean     160359 non-null  float64\n",
      " 90  PCNfR_dmd_rolling_std      160359 non-null  float64\n",
      " 91  PCNfR_dmd_delta            160359 non-null  float64\n",
      " 92  W31_rolling_mean           160359 non-null  float64\n",
      " 93  W31_rolling_std            160359 non-null  float64\n",
      " 94  W31_delta                  160359 non-null  float64\n",
      " 95  W32_rolling_mean           160359 non-null  float64\n",
      " 96  W32_rolling_std            160359 non-null  float64\n",
      " 97  W32_delta                  160359 non-null  float64\n",
      "dtypes: float32(24), float64(72), int32(2)\n",
      "memory usage: 104.0 MB\n"
     ]
    }
   ],
   "source": [
    "df.info()"
   ]
  },
  {
   "cell_type": "code",
   "execution_count": null,
   "id": "7c904590-8507-4072-87f2-0f2304467647",
   "metadata": {},
   "outputs": [],
   "source": []
  }
 ],
 "metadata": {
  "kernelspec": {
   "display_name": "Python 3 (ipykernel)",
   "language": "python",
   "name": "python3"
  },
  "language_info": {
   "codemirror_mode": {
    "name": "ipython",
    "version": 3
   },
   "file_extension": ".py",
   "mimetype": "text/x-python",
   "name": "python",
   "nbconvert_exporter": "python",
   "pygments_lexer": "ipython3",
   "version": "3.12.12"
  }
 },
 "nbformat": 4,
 "nbformat_minor": 5
}
